{
 "cells": [
  {
   "cell_type": "code",
   "execution_count": null,
   "id": "1942dbff",
   "metadata": {},
   "outputs": [],
   "source": [
    "from tkinter import *\n",
    "from tkinter.messagebox import showinfo \n",
    "\n",
    "root = Tk()\n",
    "\n",
    "groupbox_question = LabelFrame(master=root, text = 'Cau Hoi')\n",
    "groupbox_question.pack(expand=True, fill = BOTH)\n",
    "\n",
    "groupbox_answer = LabelFrame(master=root, text = 'Cac dap an')\n",
    "groupbox_answer.pack(expand=True, fill = BOTH)\n",
    "\n",
    "cb1 = BooleanVar()\n",
    "cb2 = BooleanVar()\n",
    "cb3 = BooleanVar()\n",
    "cb4 = BooleanVar()\n",
    "\n",
    "ckbnt1 = Checkbutton(groupbox_answer, variable = cb1, text=\"\", onvalue=True, offvalue=False)\n",
    "ckbnt1.grid(row=0, column=0, padx=5,pady=5)\n",
    "\n",
    "ckbnt2 = Checkbutton(groupbox_answer, variable = cb2, text=\"\", onvalue=True, offvalue=False)\n",
    "ckbnt2.grid(row=0, column=2, padx=5,pady=5)\n",
    "\n",
    "ckbnt3 = Checkbutton(groupbox_answer, variable = cb3, text=\"\", onvalue=True, offvalue=False)\n",
    "ckbnt3.grid(row=1, column=0, padx=5,pady=5)\n",
    "\n",
    "ckbnt4 = Checkbutton(groupbox_answer, variable = cb4, text=\"\", onvalue=True, offvalue=False)\n",
    "ckbnt4.grid(row=1, column=2, padx=5,pady=5)\n",
    "\n",
    "text_answer1 = Text(groupbox_answer, width=35, height=10)\n",
    "text_answer1.grid(row=0, column=1, padx=5, ipady=10)\n",
    "\n",
    "text_answer2 = Text(groupbox_answer, width=35, height=10)\n",
    "text_answer2.grid(row=0, column=3, padx=5, ipady=10)\n",
    "\n",
    "text_answer3 = Text(groupbox_answer, width=35, height=10)\n",
    "text_answer3.grid(row=1, column=1, padx=5, ipady=10)\n",
    "\n",
    "text_answer4 = Text(groupbox_answer, width=35, height=10)\n",
    "text_answer4.grid(row=1, column=3, padx=5, ipady=10)\n",
    "\n",
    "btn_previous = Button(groupbox_answer, text=\"Cau hoi truoc\")\n",
    "btn_previous.grid(row=2,column=1)\n",
    "\n",
    "btn_next = Button(groupbox_answer, text = \"Cau hoi sau\")\n",
    "btn_next.grid(row=2,column=2)\n",
    "\n",
    "btn_confirm = Button(groupbox_answer, text = \"Ket thuc\")\n",
    "btn_confirm.grid(row=2, column=3)\n",
    "\n",
    "mainloop()"
   ]
  }
 ],
 "metadata": {
  "kernelspec": {
   "display_name": "Python 3",
   "language": "python",
   "name": "python3"
  },
  "language_info": {
   "codemirror_mode": {
    "name": "ipython",
    "version": 3
   },
   "file_extension": ".py",
   "mimetype": "text/x-python",
   "name": "python",
   "nbconvert_exporter": "python",
   "pygments_lexer": "ipython3",
   "version": "3.8.8"
  }
 },
 "nbformat": 4,
 "nbformat_minor": 5
}
